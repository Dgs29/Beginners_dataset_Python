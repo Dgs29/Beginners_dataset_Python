{
 "cells": [
  {
   "cell_type": "code",
   "execution_count": 3,
   "metadata": {},
   "outputs": [],
   "source": [
    "#Import libraries\n",
    "import numpy as np\n",
    "import pandas as pd\n",
    "import matplotlib.pyplot"
   ]
  },
  {
   "cell_type": "code",
   "execution_count": 4,
   "metadata": {},
   "outputs": [
    {
     "data": {
      "text/html": [
       "<div>\n",
       "<style scoped>\n",
       "    .dataframe tbody tr th:only-of-type {\n",
       "        vertical-align: middle;\n",
       "    }\n",
       "\n",
       "    .dataframe tbody tr th {\n",
       "        vertical-align: top;\n",
       "    }\n",
       "\n",
       "    .dataframe thead th {\n",
       "        text-align: right;\n",
       "    }\n",
       "</style>\n",
       "<table border=\"1\" class=\"dataframe\">\n",
       "  <thead>\n",
       "    <tr style=\"text-align: right;\">\n",
       "      <th></th>\n",
       "      <th>Gender</th>\n",
       "      <th>Height</th>\n",
       "      <th>Weight</th>\n",
       "    </tr>\n",
       "  </thead>\n",
       "  <tbody>\n",
       "    <tr>\n",
       "      <th>0</th>\n",
       "      <td>Male</td>\n",
       "      <td>73.847017</td>\n",
       "      <td>241.893563</td>\n",
       "    </tr>\n",
       "    <tr>\n",
       "      <th>1</th>\n",
       "      <td>Male</td>\n",
       "      <td>68.781904</td>\n",
       "      <td>162.310473</td>\n",
       "    </tr>\n",
       "    <tr>\n",
       "      <th>2</th>\n",
       "      <td>Male</td>\n",
       "      <td>74.110105</td>\n",
       "      <td>212.740856</td>\n",
       "    </tr>\n",
       "    <tr>\n",
       "      <th>3</th>\n",
       "      <td>Male</td>\n",
       "      <td>71.730978</td>\n",
       "      <td>220.042470</td>\n",
       "    </tr>\n",
       "    <tr>\n",
       "      <th>4</th>\n",
       "      <td>Male</td>\n",
       "      <td>69.881796</td>\n",
       "      <td>206.349801</td>\n",
       "    </tr>\n",
       "  </tbody>\n",
       "</table>\n",
       "</div>"
      ],
      "text/plain": [
       "  Gender     Height      Weight\n",
       "0   Male  73.847017  241.893563\n",
       "1   Male  68.781904  162.310473\n",
       "2   Male  74.110105  212.740856\n",
       "3   Male  71.730978  220.042470\n",
       "4   Male  69.881796  206.349801"
      ]
     },
     "execution_count": 4,
     "metadata": {},
     "output_type": "execute_result"
    }
   ],
   "source": [
    "#Import dataset\n",
    "dataset = pd.read_csv('weight-height.csv')\n",
    "dataset.apply(lambda x:sum(x.isnull()))\n",
    "dataset.head()"
   ]
  },
  {
   "cell_type": "code",
   "execution_count": 11,
   "metadata": {},
   "outputs": [
    {
     "data": {
      "text/plain": [
       "(10000, 3)"
      ]
     },
     "execution_count": 11,
     "metadata": {},
     "output_type": "execute_result"
    }
   ],
   "source": [
    "dataset.head()\n",
    "dataset.shape"
   ]
  },
  {
   "cell_type": "code",
   "execution_count": 12,
   "metadata": {},
   "outputs": [
    {
     "data": {
      "text/plain": [
       "array([241.89356318, 162.31047252, 212.74085556, ..., 128.47531878,\n",
       "       163.85246135, 113.64910268])"
      ]
     },
     "execution_count": 12,
     "metadata": {},
     "output_type": "execute_result"
    }
   ],
   "source": [
    "X = dataset.iloc[:,0:2].values\n",
    "y = dataset.iloc[:,2].values\n",
    "y"
   ]
  },
  {
   "cell_type": "code",
   "execution_count": 13,
   "metadata": {},
   "outputs": [],
   "source": [
    "#Categorical split\n",
    "from sklearn.preprocessing import LabelEncoder\n",
    "label_x = LabelEncoder()\n",
    "X[:,0] = label_x.fit_transform(X[:,0])"
   ]
  },
  {
   "cell_type": "code",
   "execution_count": 14,
   "metadata": {},
   "outputs": [],
   "source": [
    "#Splitting into test and training set\n",
    "from sklearn.model_selection import train_test_split\n",
    "X_train,X_test,y_train,y_test = train_test_split(X, y, test_size = 0.25, random_state = 0)"
   ]
  },
  {
   "cell_type": "code",
   "execution_count": 15,
   "metadata": {},
   "outputs": [
    {
     "data": {
      "text/plain": [
       "LinearRegression(copy_X=True, fit_intercept=True, n_jobs=1, normalize=False)"
      ]
     },
     "execution_count": 15,
     "metadata": {},
     "output_type": "execute_result"
    }
   ],
   "source": [
    "#Fitting Linear Regression\n",
    "from sklearn.linear_model import LinearRegression\n",
    "regressor_Linear = LinearRegression()\n",
    "regressor_Linear.fit(X_train,y_train)"
   ]
  },
  {
   "cell_type": "code",
   "execution_count": 17,
   "metadata": {},
   "outputs": [],
   "source": [
    "ypred_linear = regressor_Linear.predict(X_test)\n"
   ]
  },
  {
   "cell_type": "code",
   "execution_count": 18,
   "metadata": {},
   "outputs": [
    {
     "name": "stdout",
     "output_type": "stream",
     "text": [
      "R-squared train score: 0.90\n",
      "R-squared test score: 0.90\n",
      "Root mean squared error(Linear): 102.40\n"
     ]
    }
   ],
   "source": [
    "#R-squared and rmse value for Linear Regression\n",
    "from sklearn.metrics import r2_score, mean_squared_error\n",
    "\n",
    "print('R-squared train score: {:.2f}'.format(regressor_Linear.score(X_train,y_train)))\n",
    "print('R-squared test score: {:.2f}'.format(regressor_Linear.score(X_test,y_test)))\n",
    "print('Root mean squared error(Linear): {:.2f}'.format((mean_squared_error(y_test,ypred_linear))))"
   ]
  },
  {
   "cell_type": "code",
   "execution_count": 19,
   "metadata": {},
   "outputs": [
    {
     "data": {
      "text/plain": [
       "0.9026761281280986"
      ]
     },
     "execution_count": 19,
     "metadata": {},
     "output_type": "execute_result"
    }
   ],
   "source": [
    "#Applying k-fold cross validation\n",
    "from sklearn.model_selection import cross_val_score\n",
    "accuracies = cross_val_score(estimator = regressor_Linear, X = X_train, y = y_train, cv = 10)\n",
    "accuracies.mean()"
   ]
  },
  {
   "cell_type": "code",
   "execution_count": 20,
   "metadata": {},
   "outputs": [],
   "source": [
    "#Polynomial Regression\n",
    "from sklearn.preprocessing import PolynomialFeatures\n",
    "poly_reg = PolynomialFeatures(degree = 2)\n",
    "X_poly = poly_reg.fit_transform(X_train)\n",
    "X_poly_test = poly_reg.transform(X_test)\n",
    "linear_reg = LinearRegression().fit(X_poly,y_train)\n"
   ]
  },
  {
   "cell_type": "code",
   "execution_count": 21,
   "metadata": {},
   "outputs": [],
   "source": [
    "ypred_Poly = linear_reg.predict(X_poly_test)"
   ]
  },
  {
   "cell_type": "code",
   "execution_count": 22,
   "metadata": {},
   "outputs": [
    {
     "name": "stdout",
     "output_type": "stream",
     "text": [
      "R-squared train score: 0.90\n",
      "R-squared test score: 0.90\n",
      "Root mean squared error(Polynomial): 10.13\n"
     ]
    }
   ],
   "source": [
    "#R-squared and rms value for Polynomial\n",
    "print('R-squared train score: {:.2f}'.format(linear_reg.score(X_poly,y_train)))\n",
    "print('R-squared test score: {:.2f}'.format(linear_reg.score(X_poly_test,y_test)))\n",
    "print('Root mean squared error(Polynomial): {:.2f}'.format(np.sqrt(mean_squared_error(y_test,ypred_Poly))))\n"
   ]
  },
  {
   "cell_type": "code",
   "execution_count": 23,
   "metadata": {},
   "outputs": [
    {
     "data": {
      "text/plain": [
       "0.9026761281280986"
      ]
     },
     "execution_count": 23,
     "metadata": {},
     "output_type": "execute_result"
    }
   ],
   "source": [
    "#Applying k-fold cross validation\n",
    "from sklearn.model_selection import cross_val_score\n",
    "r_square = cross_val_score(estimator = linear_reg, X = X_train, y = y_train, cv = 10)\n",
    "r_square.mean()"
   ]
  },
  {
   "cell_type": "code",
   "execution_count": 24,
   "metadata": {},
   "outputs": [],
   "source": [
    "#Fitting SVR\n",
    "from sklearn.svm import SVR\n",
    "regressor_svr = SVR(C = 800, kernel = 'rbf',gamma = 0.1).fit(X_train,y_train)\n",
    "ypred_SVR = regressor_svr.predict(X_test)"
   ]
  },
  {
   "cell_type": "code",
   "execution_count": 25,
   "metadata": {},
   "outputs": [
    {
     "name": "stdout",
     "output_type": "stream",
     "text": [
      "R-squared train score: 0.90\n",
      "R-squared test score: 0.90\n",
      "Root mean squared error(SVR): 10.18\n"
     ]
    }
   ],
   "source": [
    "#R-squared and rms value for SVR\n",
    "print('R-squared train score: {:.2f}'.format(regressor_svr.score(X_train,y_train)))\n",
    "print('R-squared test score: {:.2f}'.format(regressor_svr.score(X_test,y_test)))\n",
    "print('Root mean squared error(SVR): {:.2f}'.format(np.sqrt(mean_squared_error(y_test,ypred_SVR))))"
   ]
  },
  {
   "cell_type": "code",
   "execution_count": 26,
   "metadata": {},
   "outputs": [
    {
     "data": {
      "text/plain": [
       "0.9018942939528343"
      ]
     },
     "execution_count": 26,
     "metadata": {},
     "output_type": "execute_result"
    }
   ],
   "source": [
    "#Applying k-fold cross validation\n",
    "from sklearn.model_selection import cross_val_score\n",
    "r_square = cross_val_score(estimator = regressor_svr, X = X_train, y = y_train, cv = 10)\n",
    "r_square.mean()"
   ]
  },
  {
   "cell_type": "code",
   "execution_count": null,
   "metadata": {},
   "outputs": [],
   "source": [
    "#Grid Search\n",
    "from sklearn.model_selection import GridSearchCV\n",
    "parameters = [{'C':[1,10,100,1000],'kernel':['linear']},\n",
    "              {'C':[1,10,100,1000], 'kernel':['rbf'],'gamma': [0.1,0.2,0.3,0.4,0.5,0.6,0.7,0.8,0.9],\n",
    "               'epsilon':[0.1,0.2,0.3,0.4,0.5]}]\n",
    "grid_search = GridSearchCV(estimator = regressor_svr,\n",
    "                           param_grid = parameters,\n",
    "                           scoring = 'r2',\n",
    "                           cv = 10,\n",
    "                           n_jobs = -1)\n",
    "grid_search = grid_search.fit(X_train, y_train)\n",
    "best_accuracy = grid_search.best_score_\n",
    "best_parameters = grid_search.best_params_\n",
    "print(best_accuracy)\n",
    "print(best_parameters)"
   ]
  },
  {
   "cell_type": "code",
   "execution_count": 37,
   "metadata": {},
   "outputs": [],
   "source": [
    "#KNN Regression\n",
    "from sklearn.neighbors import KNeighborsRegressor\n",
    "regression_KNN = KNeighborsRegressor(n_neighbors = 10).fit(X_train,y_train)\n",
    "ypred_KNN = regression_KNN.predict(X_test)\n"
   ]
  },
  {
   "cell_type": "code",
   "execution_count": 38,
   "metadata": {},
   "outputs": [
    {
     "name": "stdout",
     "output_type": "stream",
     "text": [
      "R-squared train score: 0.91\n",
      "R-squared test score: 0.89\n",
      "Root mean squared error(KNN): 10.74\n"
     ]
    }
   ],
   "source": [
    "#R-squared and rms value for KNN Regression\n",
    "print('R-squared train score: {:.2f}'.format(regression_KNN.score(X_train,y_train)))\n",
    "print('R-squared test score: {:.2f}'.format(regression_KNN.score(X_test,y_test)))\n",
    "print('Root mean squared error(KNN): {:.2f}'.format(np.sqrt(mean_squared_error(y_test,ypred_KNN))))"
   ]
  },
  {
   "cell_type": "code",
   "execution_count": 39,
   "metadata": {},
   "outputs": [
    {
     "data": {
      "text/plain": [
       "0.8922922226706385"
      ]
     },
     "execution_count": 39,
     "metadata": {},
     "output_type": "execute_result"
    }
   ],
   "source": [
    "#Applying k-fold cross validation\n",
    "from sklearn.model_selection import cross_val_score\n",
    "r_square = cross_val_score(estimator = regression_KNN, X = X_train, y = y_train, cv = 10)\n",
    "r_square.mean()"
   ]
  },
  {
   "cell_type": "code",
   "execution_count": 31,
   "metadata": {},
   "outputs": [
    {
     "name": "stdout",
     "output_type": "stream",
     "text": [
      "0.8987839761793451\n",
      "{'n_neighbors': 29}\n"
     ]
    }
   ],
   "source": [
    "#Grid Search\n",
    "from sklearn.model_selection import GridSearchCV\n",
    "parameters = {'n_neighbors':range(1,31)}\n",
    "grid_search = GridSearchCV(estimator = regression_KNN,\n",
    "                           param_grid = parameters,\n",
    "                           scoring = 'r2',\n",
    "                           cv = 10,\n",
    "                           n_jobs = -1)\n",
    "grid_search = grid_search.fit(X_train, y_train)\n",
    "best_r2 = grid_search.best_score_\n",
    "best_parameters = grid_search.best_params_\n",
    "print(best_r2)\n",
    "print(best_parameters)"
   ]
  },
  {
   "cell_type": "code",
   "execution_count": 41,
   "metadata": {},
   "outputs": [],
   "source": [
    "#Decision Trees\n",
    "from sklearn.tree import DecisionTreeRegressor\n",
    "regressor_DT = DecisionTreeRegressor(max_depth = 5).fit(X_train,y_train)\n",
    "ypred_DT = regressor_DT.predict(X_test)\n"
   ]
  },
  {
   "cell_type": "code",
   "execution_count": 42,
   "metadata": {},
   "outputs": [
    {
     "name": "stdout",
     "output_type": "stream",
     "text": [
      "R-squared train score: 0.90\n",
      "R-squared test score: 0.90\n",
      "Root mean squared error(Decision Tree): 10.36\n"
     ]
    }
   ],
   "source": [
    "#R-squared and rms value for Decision Tree\n",
    "print('R-squared train score: {:.2f}'.format(regressor_DT.score(X_train,y_train)))\n",
    "print('R-squared test score: {:.2f}'.format(regressor_DT.score(X_test,y_test)))\n",
    "print('Root mean squared error(Decision Tree): {:.2f}'.format(np.sqrt(mean_squared_error(y_test,ypred_DT))))"
   ]
  },
  {
   "cell_type": "code",
   "execution_count": 43,
   "metadata": {},
   "outputs": [
    {
     "data": {
      "text/plain": [
       "0.8996097364176882"
      ]
     },
     "execution_count": 43,
     "metadata": {},
     "output_type": "execute_result"
    }
   ],
   "source": [
    "#Applying k-fold cross validation\n",
    "from sklearn.model_selection import cross_val_score\n",
    "r_square = cross_val_score(estimator = regressor_DT, X = X_train, y = y_train, cv = 10)\n",
    "r_square.mean()"
   ]
  },
  {
   "cell_type": "code",
   "execution_count": 44,
   "metadata": {},
   "outputs": [
    {
     "name": "stdout",
     "output_type": "stream",
     "text": [
      "0.8996097364176882\n",
      "{'max_depth': 5}\n"
     ]
    }
   ],
   "source": [
    "#Grid Search\n",
    "from sklearn.model_selection import GridSearchCV\n",
    "parameters = {'max_depth':range(1,11)}\n",
    "grid_search = GridSearchCV(estimator = regressor_DT,\n",
    "                           param_grid = parameters,\n",
    "                           scoring = 'r2',\n",
    "                           cv = 10,\n",
    "                           n_jobs = -1)\n",
    "grid_search = grid_search.fit(X_train, y_train)\n",
    "best_accuracy = grid_search.best_score_\n",
    "best_parameters = grid_search.best_params_\n",
    "print(best_accuracy)\n",
    "print(best_parameters)"
   ]
  },
  {
   "cell_type": "code",
   "execution_count": 49,
   "metadata": {},
   "outputs": [],
   "source": [
    "#Fitting Random Forest\n",
    "from sklearn.ensemble import RandomForestRegressor\n",
    "regressor_RF = RandomForestRegressor(n_estimators = 9,max_depth = 5).fit(X_train,y_train)\n",
    "ypred_RF = regressor_RF.predict(X_test)"
   ]
  },
  {
   "cell_type": "code",
   "execution_count": 50,
   "metadata": {},
   "outputs": [
    {
     "name": "stdout",
     "output_type": "stream",
     "text": [
      "R-squared train score: 0.91\n",
      "R-squared test score: 0.90\n",
      "Root mean squared error(Random Forest): 10.29\n"
     ]
    }
   ],
   "source": [
    "#R-squared and rms value for Random Forest\n",
    "print('R-squared train score: {:.2f}'.format(regressor_RF.score(X_train,y_train)))\n",
    "print('R-squared test score: {:.2f}'.format(regressor_RF.score(X_test,y_test)))\n",
    "print('Root mean squared error(Random Forest): {:.2f}'.format(np.sqrt(mean_squared_error(y_test, ypred_RF))))"
   ]
  },
  {
   "cell_type": "code",
   "execution_count": 51,
   "metadata": {},
   "outputs": [
    {
     "data": {
      "text/plain": [
       "0.9014197135027266"
      ]
     },
     "execution_count": 51,
     "metadata": {},
     "output_type": "execute_result"
    }
   ],
   "source": [
    "#Applying k-fold cross validation\n",
    "from sklearn.model_selection import cross_val_score\n",
    "r_square = cross_val_score(estimator = regressor_RF, X = X_train, y = y_train, cv = 10)\n",
    "r_square.mean()"
   ]
  },
  {
   "cell_type": "code",
   "execution_count": 48,
   "metadata": {},
   "outputs": [
    {
     "name": "stdout",
     "output_type": "stream",
     "text": [
      "0.9014034228604991\n",
      "{'max_depth': 5, 'n_estimators': 9}\n"
     ]
    }
   ],
   "source": [
    "#Grid Search\n",
    "from sklearn.model_selection import GridSearchCV\n",
    "parameters = {'n_estimators':range(1,11),'max_depth' : range(1,11)}\n",
    "grid_search = GridSearchCV(estimator = regressor_RF,\n",
    "                           param_grid = parameters,\n",
    "                           scoring = 'r2',\n",
    "                           cv = 10,\n",
    "                           n_jobs = -1)\n",
    "grid_search = grid_search.fit(X_train, y_train)\n",
    "best_accuracy = grid_search.best_score_\n",
    "best_parameters = grid_search.best_params_\n",
    "print(best_accuracy)\n",
    "print(best_parameters)"
   ]
  },
  {
   "cell_type": "code",
   "execution_count": 58,
   "metadata": {},
   "outputs": [],
   "source": [
    "#Fitting Extra Trees Regression\n",
    "from sklearn.ensemble import ExtraTreesRegressor\n",
    "regressor_ETR = ExtraTreesRegressor(n_estimators = 350,max_depth = 6).fit(X_train,y_train)\n",
    "ypred_ETR = regressor_ETR.predict(X_test)"
   ]
  },
  {
   "cell_type": "code",
   "execution_count": 59,
   "metadata": {},
   "outputs": [
    {
     "name": "stdout",
     "output_type": "stream",
     "text": [
      "R-squared train score: 0.90\n",
      "R-squared test score: 0.90\n",
      "Root mean squared error(Extra Tree): 10.40\n"
     ]
    }
   ],
   "source": [
    "#R-squared and rms value for Extra Tree\n",
    "print('R-squared train score: {:.2f}'.format(regressor_ETR.score(X_train,y_train)))\n",
    "print('R-squared test score: {:.2f}'.format(regressor_ETR.score(X_test,y_test)))\n",
    "print('Root mean squared error(Extra Tree): {:.2f}'.format(np.sqrt(mean_squared_error(y_test,ypred_ETR))))"
   ]
  },
  {
   "cell_type": "code",
   "execution_count": 60,
   "metadata": {},
   "outputs": [
    {
     "data": {
      "text/plain": [
       "0.8986407203385008"
      ]
     },
     "execution_count": 60,
     "metadata": {},
     "output_type": "execute_result"
    }
   ],
   "source": [
    "#Applying k-fold cross validation\n",
    "from sklearn.model_selection import cross_val_score\n",
    "r_square = cross_val_score(estimator = regressor_ETR, X = X_train, y = y_train, cv = 10)\n",
    "r_square.mean()"
   ]
  },
  {
   "cell_type": "code",
   "execution_count": 55,
   "metadata": {},
   "outputs": [
    {
     "name": "stdout",
     "output_type": "stream",
     "text": [
      "0.9016462400309418\n",
      "{'max_depth': 8, 'n_estimators': 350}\n"
     ]
    }
   ],
   "source": [
    "#Grid Search\n",
    "from sklearn.model_selection import GridSearchCV\n",
    "parameters = {'n_estimators':[150,200,250,300,350,400],'max_depth' : [4,5,6,7,8]}\n",
    "grid_search = GridSearchCV(estimator = regressor_ETR,\n",
    "                           param_grid = parameters,\n",
    "                           scoring = 'r2',\n",
    "                           cv = 10,\n",
    "                           n_jobs = -1)\n",
    "grid_search = grid_search.fit(X_train, y_train)\n",
    "best_accuracy = grid_search.best_score_\n",
    "best_parameters = grid_search.best_params_\n",
    "print(best_accuracy)\n",
    "print(best_parameters)"
   ]
  },
  {
   "cell_type": "code",
   "execution_count": 78,
   "metadata": {},
   "outputs": [],
   "source": [
    "#Ridge Regression\n",
    "from sklearn.linear_model import Ridge\n",
    "linear_Ridge = Ridge(alpha = 1).fit(X_train,y_train)\n",
    "ypred_Ridge = linear_Ridge.predict(X_test)"
   ]
  },
  {
   "cell_type": "code",
   "execution_count": 79,
   "metadata": {},
   "outputs": [
    {
     "name": "stdout",
     "output_type": "stream",
     "text": [
      "R-squared train score: 0.90\n",
      "R-squared test score: 0.90\n",
      "Root mean squared error(Ridge): 10.12\n"
     ]
    }
   ],
   "source": [
    "#R-squared and rms value for Ridge Regression\n",
    "print('R-squared train score: {:.2f}'.format(linear_Ridge.score(X_train,y_train)))\n",
    "print('R-squared test score: {:.2f}'.format(linear_Ridge.score(X_test,y_test)))\n",
    "print('Root mean squared error(Ridge): {:.2f}'.format(np.sqrt(mean_squared_error(y_test,ypred_Ridge))))"
   ]
  },
  {
   "cell_type": "code",
   "execution_count": 80,
   "metadata": {},
   "outputs": [
    {
     "data": {
      "text/plain": [
       "0.9026762005024486"
      ]
     },
     "execution_count": 80,
     "metadata": {},
     "output_type": "execute_result"
    }
   ],
   "source": [
    "#Applying k-fold cross validation\n",
    "from sklearn.model_selection import cross_val_score\n",
    "r_square = cross_val_score(estimator = linear_Ridge, X = X_train, y = y_train, cv = 10)\n",
    "r_square.mean()"
   ]
  },
  {
   "cell_type": "code",
   "execution_count": 77,
   "metadata": {},
   "outputs": [
    {
     "name": "stdout",
     "output_type": "stream",
     "text": [
      "0.9026762005024485\n",
      "{'alpha': 1}\n"
     ]
    }
   ],
   "source": [
    "#Grid Search\n",
    "from sklearn.model_selection import GridSearchCV\n",
    "parameters = {'alpha':range(1,6)}\n",
    "grid_search = GridSearchCV(estimator = linear_Ridge,\n",
    "                           param_grid = parameters,\n",
    "                           scoring = 'r2',\n",
    "                           cv = 10,\n",
    "                           n_jobs = -1)\n",
    "grid_search = grid_search.fit(X_train, y_train)\n",
    "best_accuracy = grid_search.best_score_\n",
    "best_parameters = grid_search.best_params_\n",
    "print(best_accuracy)\n",
    "print(best_parameters)"
   ]
  },
  {
   "cell_type": "code",
   "execution_count": 81,
   "metadata": {},
   "outputs": [],
   "source": [
    "#Lasso Regression\n",
    "from sklearn.linear_model import Lasso\n",
    "linear_Lasso = Lasso(alpha = 1).fit(X_train,y_train)\n",
    "ypred_Lasso = linear_Lasso.predict(X_test)"
   ]
  },
  {
   "cell_type": "code",
   "execution_count": 82,
   "metadata": {},
   "outputs": [
    {
     "name": "stdout",
     "output_type": "stream",
     "text": [
      "R-squared train score: 0.90\n",
      "R-squared test score: 0.90\n",
      "Root mean squared error(Lasso): 10.43\n"
     ]
    }
   ],
   "source": [
    "#R-squared and rms value for Lasso Regression\n",
    "print('R-squared train score: {:.2f}'.format(linear_Lasso.score(X_train,y_train)))\n",
    "print('R-squared test score: {:.2f}'.format(linear_Lasso.score(X_test,y_test)))\n",
    "print('Root mean squared error(Lasso): {:.2f}'.format(np.sqrt(mean_squared_error(y_test,ypred_Lasso))))"
   ]
  },
  {
   "cell_type": "code",
   "execution_count": 83,
   "metadata": {},
   "outputs": [
    {
     "data": {
      "text/plain": [
       "0.8964184600301351"
      ]
     },
     "execution_count": 83,
     "metadata": {},
     "output_type": "execute_result"
    }
   ],
   "source": [
    "#Applying k-fold cross validation\n",
    "from sklearn.model_selection import cross_val_score\n",
    "r_square = cross_val_score(estimator = linear_Lasso, X = X_train, y = y_train, cv = 10)\n",
    "r_square.mean()"
   ]
  },
  {
   "cell_type": "code",
   "execution_count": 76,
   "metadata": {},
   "outputs": [
    {
     "name": "stdout",
     "output_type": "stream",
     "text": [
      "0.896418460030135\n",
      "{'alpha': 1}\n"
     ]
    }
   ],
   "source": [
    "#Grid Search\n",
    "from sklearn.model_selection import GridSearchCV\n",
    "parameters = {'alpha':range(1,6)}\n",
    "grid_search = GridSearchCV(estimator = linear_Lasso,\n",
    "                           param_grid = parameters,\n",
    "                           scoring = 'r2',\n",
    "                           cv = 10,\n",
    "                           n_jobs = -1)\n",
    "grid_search = grid_search.fit(X_train, y_train)\n",
    "best_accuracy = grid_search.best_score_\n",
    "best_parameters = grid_search.best_params_\n",
    "print(best_accuracy)\n",
    "print(best_parameters)"
   ]
  }
 ],
 "metadata": {
  "kernelspec": {
   "display_name": "Python 3",
   "language": "python",
   "name": "python3"
  },
  "language_info": {
   "codemirror_mode": {
    "name": "ipython",
    "version": 3
   },
   "file_extension": ".py",
   "mimetype": "text/x-python",
   "name": "python",
   "nbconvert_exporter": "python",
   "pygments_lexer": "ipython3",
   "version": "3.6.5"
  }
 },
 "nbformat": 4,
 "nbformat_minor": 2
}
